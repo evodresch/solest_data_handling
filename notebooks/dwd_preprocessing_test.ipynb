{
 "cells": [
  {
   "cell_type": "markdown",
   "id": "635b305b-3ff7-496b-86cf-f9295b82742a",
   "metadata": {},
   "source": [
    "# DWD data preprocessing\n",
    "This notebook will be used to test some of the gdal functions to prepare the DWD data to be used in SolEst later on."
   ]
  },
  {
   "cell_type": "code",
   "execution_count": 8,
   "id": "6a4928a6-e1ef-40f6-a4ad-43f2d9c96d14",
   "metadata": {},
   "outputs": [],
   "source": [
    "import sys"
   ]
  },
  {
   "cell_type": "code",
   "execution_count": 9,
   "id": "976509cc-2904-4049-bf80-2009185234b2",
   "metadata": {},
   "outputs": [],
   "source": [
    "sys.path.append('/Users/evandro/PycharmProjects/solest_data_handling/scripts')"
   ]
  },
  {
   "cell_type": "code",
   "execution_count": 18,
   "id": "e4b34611-752a-46e2-b3c1-8eb0300f11f7",
   "metadata": {},
   "outputs": [],
   "source": [
    "from osgeo import gdal\n",
    "import os\n",
    "import config\n",
    "import numpy as np\n",
    "gdal.UseExceptions()"
   ]
  },
  {
   "cell_type": "markdown",
   "id": "79d71245-4b8d-4520-9829-14add3239b7f",
   "metadata": {},
   "source": [
    "## 1 Extract header and data"
   ]
  },
  {
   "cell_type": "code",
   "execution_count": 19,
   "id": "b984214f-566d-4308-a192-ec78afbc7fce",
   "metadata": {
    "jupyter": {
     "source_hidden": true
    }
   },
   "outputs": [],
   "source": [
    "# move back to main directory"
   ]
  },
  {
   "cell_type": "code",
   "execution_count": 20,
   "id": "c250af23-305a-47fc-afe8-c701490952af",
   "metadata": {},
   "outputs": [],
   "source": [
    "os.chdir('/Users/evandro/PycharmProjects/solest_data_handling/')"
   ]
  },
  {
   "cell_type": "code",
   "execution_count": 21,
   "id": "d36e700b-251c-427f-a47c-6549c04195a2",
   "metadata": {},
   "outputs": [],
   "source": [
    "sample_file = './data/dwd/global_irradiation/grids_germany_monthly_radiation_global_199401.asc'\n",
    "parsed_file = './prepared_data/dwd/global_irradiation/grids_germany_monthly_radiation_global_199401.tif'"
   ]
  },
  {
   "cell_type": "code",
   "execution_count": 22,
   "id": "89291d34-756a-4b53-982d-5eb29976f140",
   "metadata": {},
   "outputs": [],
   "source": [
    "# 0. Get the actual data from the ascii file and parse the header\n",
    "def parse_ascii_grid(file_path):\n",
    "    header = {}\n",
    "    data = []\n",
    "\n",
    "    with open(file_path, 'r') as file:\n",
    "        # Read header section\n",
    "        line = file.readline()\n",
    "        while line.strip() and not line.startswith(\"[ASCII-Raster-Format]\"):\n",
    "            if '=' in line:\n",
    "                key, value = line.strip().split('=', 1)\n",
    "                header[key] = value\n",
    "            line = file.readline()\n",
    "\n",
    "        for line in file:\n",
    "            n_cells = len(line.split(\" \"))\n",
    "            \n",
    "            # ascii raster info\n",
    "            if n_cells == 2:\n",
    "                key, value = line.strip().split(' ', maxsplit=1)\n",
    "                header[key] = value\n",
    "\n",
    "            else:\n",
    "                data.append(list(map(float, line.split(\" \"))))\n",
    "    return header, data"
   ]
  },
  {
   "cell_type": "markdown",
   "id": "421ce7f8-e855-4276-8f98-c4a599dbcb30",
   "metadata": {},
   "source": [
    "## 2. Convert to GeoTIFF"
   ]
  },
  {
   "cell_type": "code",
   "execution_count": 23,
   "id": "955dc47d-6e70-4ece-a3d2-e44c3020313e",
   "metadata": {},
   "outputs": [],
   "source": [
    "def create_geotiff_from_data(data, header, output_filename):\n",
    "    \"\"\" Create a GeoTIFF file from parsed data and header. \"\"\"\n",
    "    array = np.array(data)\n",
    "    nrows, ncols = array.shape\n",
    "    xllcorner = float(header['XLLCORNER'])\n",
    "    yllcorner = float(header['YLLCORNER'])\n",
    "    cellsize = float(header['CELLSIZE'])\n",
    "    nodata = float(header['NODATA_VALUE'])\n",
    "\n",
    "    driver = gdal.GetDriverByName('GTiff')\n",
    "    dataset = driver.Create(output_filename, ncols, nrows, 1, gdal.GDT_Float32, [\"COMPRESS=LZW\"])\n",
    "    \n",
    "    dataset.SetGeoTransform([xllcorner, cellsize, 0, yllcorner, 0, -cellsize])\n",
    "    dataset.SetProjection('EPSG:31467')  # Set the projection\n",
    "\n",
    "    band = dataset.GetRasterBand(1)\n",
    "    band.SetNoDataValue(nodata)\n",
    "    band.WriteArray(array)\n",
    "    \n",
    "    dataset.FlushCache()"
   ]
  },
  {
   "cell_type": "code",
   "execution_count": 24,
   "id": "52177133-715f-4049-a1be-b548b0cc0066",
   "metadata": {},
   "outputs": [],
   "source": [
    "header, data = parse_ascii_grid(sample_file)"
   ]
  },
  {
   "cell_type": "code",
   "execution_count": 25,
   "id": "a7dcc685-8fb5-473a-9d2e-ac96b2960095",
   "metadata": {},
   "outputs": [],
   "source": [
    "create_geotiff_from_data(data, header, parsed_file)"
   ]
  }
 ],
 "metadata": {
  "kernelspec": {
   "display_name": "Python 3 (ipykernel)",
   "language": "python",
   "name": "python3"
  },
  "language_info": {
   "codemirror_mode": {
    "name": "ipython",
    "version": 3
   },
   "file_extension": ".py",
   "mimetype": "text/x-python",
   "name": "python",
   "nbconvert_exporter": "python",
   "pygments_lexer": "ipython3",
   "version": "3.11.8"
  }
 },
 "nbformat": 4,
 "nbformat_minor": 5
}
