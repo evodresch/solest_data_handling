{
 "cells": [
  {
   "cell_type": "markdown",
   "id": "635b305b-3ff7-496b-86cf-f9295b82742a",
   "metadata": {},
   "source": [
    "# DWD data preprocessing\n",
    "This notebook will be used to test some of the gdal functions to prepare the DWD data to be used in SolEst later on."
   ]
  },
  {
   "cell_type": "code",
   "execution_count": 1,
   "id": "6a4928a6-e1ef-40f6-a4ad-43f2d9c96d14",
   "metadata": {},
   "outputs": [],
   "source": [
    "import sys"
   ]
  },
  {
   "cell_type": "code",
   "execution_count": 2,
   "id": "976509cc-2904-4049-bf80-2009185234b2",
   "metadata": {},
   "outputs": [],
   "source": [
    "sys.path.append('/Users/evandro/PycharmProjects/solest_data_handling/scripts')"
   ]
  },
  {
   "cell_type": "code",
   "execution_count": 3,
   "id": "e4b34611-752a-46e2-b3c1-8eb0300f11f7",
   "metadata": {},
   "outputs": [
    {
     "name": "stdout",
     "output_type": "stream",
     "text": [
      "Intel MKL WARNING: Support of Intel(R) Streaming SIMD Extensions 4.2 (Intel(R) SSE4.2) enabled only processors has been deprecated. Intel oneAPI Math Kernel Library 2025.0 will require Intel(R) Advanced Vector Extensions (Intel(R) AVX) instructions.\n",
      "Intel MKL WARNING: Support of Intel(R) Streaming SIMD Extensions 4.2 (Intel(R) SSE4.2) enabled only processors has been deprecated. Intel oneAPI Math Kernel Library 2025.0 will require Intel(R) Advanced Vector Extensions (Intel(R) AVX) instructions.\n"
     ]
    }
   ],
   "source": [
    "from osgeo import gdal\n",
    "import os\n",
    "import config\n",
    "import numpy as np\n",
    "gdal.UseExceptions()"
   ]
  },
  {
   "cell_type": "markdown",
   "id": "79d71245-4b8d-4520-9829-14add3239b7f",
   "metadata": {},
   "source": [
    "## 1 Extract header and data"
   ]
  },
  {
   "cell_type": "code",
   "execution_count": 4,
   "id": "b984214f-566d-4308-a192-ec78afbc7fce",
   "metadata": {
    "jupyter": {
     "source_hidden": true
    }
   },
   "outputs": [],
   "source": [
    "# move back to main directory"
   ]
  },
  {
   "cell_type": "code",
   "execution_count": 5,
   "id": "c250af23-305a-47fc-afe8-c701490952af",
   "metadata": {},
   "outputs": [],
   "source": [
    "os.chdir('/Users/evandro/PycharmProjects/solest_data_handling/')"
   ]
  },
  {
   "cell_type": "code",
   "execution_count": 6,
   "id": "d36e700b-251c-427f-a47c-6549c04195a2",
   "metadata": {},
   "outputs": [],
   "source": [
    "sample_file = './data/dwd/ambient_temperature/grids_germany_monthly_air_temp_mean_199401.asc'\n",
    "parsed_file = './processed_data/dwd/ambient_temperature/grids_germany_monthly_air_temp_mean_199401.tif'"
   ]
  },
  {
   "cell_type": "code",
   "execution_count": 24,
   "id": "1b0b8d07-f156-4bd7-afd6-c6514746da0c",
   "metadata": {},
   "outputs": [
    {
     "name": "stdout",
     "output_type": "stream",
     "text": [
      "NCOLS 654\n",
      "\n"
     ]
    }
   ],
   "source": [
    "with open(sample_file, 'r') as file:\n",
    "    line = file.readline()\n",
    "    print(line)"
   ]
  },
  {
   "cell_type": "code",
   "execution_count": 54,
   "id": "89291d34-756a-4b53-982d-5eb29976f140",
   "metadata": {},
   "outputs": [],
   "source": [
    "# 0. Get the actual data from the ascii file and parse the header\n",
    "def parse_ascii_grid(file_path):\n",
    "    header = {}\n",
    "    data = []\n",
    "    \n",
    "    with open(file_path, 'r') as file:\n",
    "        # Read header section\n",
    "        line = file.readline()\n",
    "        while line.strip() and not line.startswith(\"[ASCII-Raster-Format]\"):\n",
    "            if '=' in line:\n",
    "                key, value = line.strip().split('=', 1)\n",
    "                header[key] = value\n",
    "            line = file.readline()\n",
    "            \n",
    "    with open(file_path, 'r') as file:\n",
    "        for line in file:\n",
    "            n_cells = len(line.split(\" \"))\n",
    "            \n",
    "            # ascii raster info\n",
    "            if n_cells == 2:\n",
    "                key, value = line.strip().split(' ', maxsplit=1)\n",
    "                header[key] = value\n",
    "\n",
    "            elif n_cells > 2:\n",
    "                line = line.strip()\n",
    "                line = [el for el in line.split(\" \") if el != '']\n",
    "                data.append(list(map(float, line.split(\" \"))))\n",
    "    return header, data"
   ]
  },
  {
   "cell_type": "markdown",
   "id": "421ce7f8-e855-4276-8f98-c4a599dbcb30",
   "metadata": {},
   "source": [
    "## 2. Convert to GeoTIFF"
   ]
  },
  {
   "cell_type": "code",
   "execution_count": 55,
   "id": "955dc47d-6e70-4ece-a3d2-e44c3020313e",
   "metadata": {},
   "outputs": [],
   "source": [
    "def create_geotiff_from_data(data, header, output_filename):\n",
    "    \"\"\" Create a GeoTIFF file from parsed data and header. \"\"\"\n",
    "    array = np.array(data)\n",
    "    nrows, ncols = array.shape\n",
    "    xllcorner = float(header['XLLCORNER'])\n",
    "    yllcorner = float(header['YLLCORNER'])\n",
    "    cellsize = float(header['CELLSIZE'])\n",
    "    nodata = float(header['NODATA_VALUE'])\n",
    "\n",
    "    driver = gdal.GetDriverByName('GTiff')\n",
    "    dataset = driver.Create(output_filename, ncols, nrows, 1, gdal.GDT_Float32, [\"COMPRESS=LZW\"])\n",
    "    \n",
    "    dataset.SetGeoTransform([xllcorner, cellsize, 0, yllcorner, 0, -cellsize])\n",
    "    dataset.SetProjection('EPSG:31467')  # Set the projection\n",
    "\n",
    "    band = dataset.GetRasterBand(1)\n",
    "    band.SetNoDataValue(nodata)\n",
    "    band.WriteArray(array)\n",
    "    \n",
    "    dataset.FlushCache()"
   ]
  },
  {
   "cell_type": "code",
   "execution_count": 56,
   "id": "52177133-715f-4049-a1be-b548b0cc0066",
   "metadata": {},
   "outputs": [
    {
     "ename": "ValueError",
     "evalue": "could not convert string to float: ''",
     "output_type": "error",
     "traceback": [
      "\u001b[0;31m---------------------------------------------------------------------------\u001b[0m",
      "\u001b[0;31mValueError\u001b[0m                                Traceback (most recent call last)",
      "Cell \u001b[0;32mIn[56], line 1\u001b[0m\n\u001b[0;32m----> 1\u001b[0m header, data \u001b[38;5;241m=\u001b[39m parse_ascii_grid(sample_file)\n",
      "Cell \u001b[0;32mIn[54], line 27\u001b[0m, in \u001b[0;36mparse_ascii_grid\u001b[0;34m(file_path)\u001b[0m\n\u001b[1;32m     25\u001b[0m             line \u001b[38;5;241m=\u001b[39m line\u001b[38;5;241m.\u001b[39mstrip()\n\u001b[1;32m     26\u001b[0m             line\u001b[38;5;241m.\u001b[39mreplace(\u001b[38;5;124m'\u001b[39m\u001b[38;5;124m  \u001b[39m\u001b[38;5;124m'\u001b[39m, \u001b[38;5;124m'\u001b[39m\u001b[38;5;124m \u001b[39m\u001b[38;5;124m'\u001b[39m)\n\u001b[0;32m---> 27\u001b[0m             data\u001b[38;5;241m.\u001b[39mappend(\u001b[38;5;28mlist\u001b[39m(\u001b[38;5;28mmap\u001b[39m(\u001b[38;5;28mfloat\u001b[39m, line\u001b[38;5;241m.\u001b[39msplit(\u001b[38;5;124m\"\u001b[39m\u001b[38;5;124m \u001b[39m\u001b[38;5;124m\"\u001b[39m))))\n\u001b[1;32m     28\u001b[0m \u001b[38;5;28;01mreturn\u001b[39;00m header, data\n",
      "\u001b[0;31mValueError\u001b[0m: could not convert string to float: ''"
     ]
    }
   ],
   "source": [
    "header, data = parse_ascii_grid(sample_file)"
   ]
  },
  {
   "cell_type": "code",
   "execution_count": 13,
   "id": "a7dcc685-8fb5-473a-9d2e-ac96b2960095",
   "metadata": {},
   "outputs": [
    {
     "ename": "ValueError",
     "evalue": "not enough values to unpack (expected 2, got 1)",
     "output_type": "error",
     "traceback": [
      "\u001b[0;31m---------------------------------------------------------------------------\u001b[0m",
      "\u001b[0;31mValueError\u001b[0m                                Traceback (most recent call last)",
      "Cell \u001b[0;32mIn[13], line 1\u001b[0m\n\u001b[0;32m----> 1\u001b[0m create_geotiff_from_data(data, header, parsed_file)\n",
      "Cell \u001b[0;32mIn[11], line 4\u001b[0m, in \u001b[0;36mcreate_geotiff_from_data\u001b[0;34m(data, header, output_filename)\u001b[0m\n\u001b[1;32m      2\u001b[0m \u001b[38;5;250m\u001b[39m\u001b[38;5;124;03m\"\"\" Create a GeoTIFF file from parsed data and header. \"\"\"\u001b[39;00m\n\u001b[1;32m      3\u001b[0m array \u001b[38;5;241m=\u001b[39m np\u001b[38;5;241m.\u001b[39marray(data)\n\u001b[0;32m----> 4\u001b[0m nrows, ncols \u001b[38;5;241m=\u001b[39m array\u001b[38;5;241m.\u001b[39mshape\n\u001b[1;32m      5\u001b[0m xllcorner \u001b[38;5;241m=\u001b[39m \u001b[38;5;28mfloat\u001b[39m(header[\u001b[38;5;124m'\u001b[39m\u001b[38;5;124mXLLCORNER\u001b[39m\u001b[38;5;124m'\u001b[39m])\n\u001b[1;32m      6\u001b[0m yllcorner \u001b[38;5;241m=\u001b[39m \u001b[38;5;28mfloat\u001b[39m(header[\u001b[38;5;124m'\u001b[39m\u001b[38;5;124mYLLCORNER\u001b[39m\u001b[38;5;124m'\u001b[39m])\n",
      "\u001b[0;31mValueError\u001b[0m: not enough values to unpack (expected 2, got 1)"
     ]
    }
   ],
   "source": [
    "create_geotiff_from_data(data, header, parsed_file)"
   ]
  },
  {
   "cell_type": "code",
   "execution_count": null,
   "id": "6eead52d-ac68-491b-bc9d-3694eea306f4",
   "metadata": {},
   "outputs": [],
   "source": []
  }
 ],
 "metadata": {
  "kernelspec": {
   "display_name": "Python 3 (ipykernel)",
   "language": "python",
   "name": "python3"
  },
  "language_info": {
   "codemirror_mode": {
    "name": "ipython",
    "version": 3
   },
   "file_extension": ".py",
   "mimetype": "text/x-python",
   "name": "python",
   "nbconvert_exporter": "python",
   "pygments_lexer": "ipython3",
   "version": "3.11.8"
  }
 },
 "nbformat": 4,
 "nbformat_minor": 5
}
